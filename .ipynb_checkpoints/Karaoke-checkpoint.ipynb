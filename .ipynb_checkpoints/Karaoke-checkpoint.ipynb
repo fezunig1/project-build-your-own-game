{
 "cells": [
  {
   "cell_type": "code",
   "execution_count": 63,
   "id": "e2b92023-c494-442b-8b50-86d37d1a5e6c",
   "metadata": {
    "collapsed": true,
    "jupyter": {
     "outputs_hidden": true,
     "source_hidden": true
    },
    "tags": []
   },
   "outputs": [],
   "source": [
    "import random\n",
    "import time"
   ]
  },
  {
   "cell_type": "code",
   "execution_count": 19,
   "id": "0c6a48db-220d-43fd-aaae-ad622758c00b",
   "metadata": {
    "collapsed": true,
    "jupyter": {
     "outputs_hidden": true,
     "source_hidden": true
    }
   },
   "outputs": [],
   "source": [
    "mana = ['Amor', 'mío', 'Si', 'estoy', 'debajo', 'del', 'vaivén', 'de', 'tus', 'piernas', 'Si', 'estoy', 'hundido', 'en', 'un', 'vaivén', 'de', 'caderas', 'Esto', 'es', 'el', 'cielo,', 'es', 'mi', 'cielo', 'Amor', 'fugado', 'Me', 'tomas,', 'me', 'dejas,', 'me', 'exprimes', 'y', 'me', 'tiras', 'a', 'un', 'lado', 'Te', 'vas', 'a', 'otros', 'cielos', 'y', 'regresas', 'como', 'los', 'colibrís', 'Me', 'tienes', 'como', 'un', 'perro', 'a', 'tus', 'pies', 'Otra', 'vez', 'mi', 'boca', 'insensata', 'Vuelve', 'a', 'caer', 'en', 'tu', 'piel', 'Vuelve', 'a', 'mí', 'tu', 'boca', 'y', 'provoca', 'Vuelvo', 'a', 'caer', 'de', 'tus', 'pechos', 'a', 'tu', 'par', 'de', 'pies', 'Labios', 'compartidos,', 'labios', 'divididos,', 'mi', 'amor', 'Yo', 'no', 'puedo', 'compartir', 'tus', 'labios', 'Que', 'comparto', 'el', 'engaño', 'y', 'comparto', 'mis', 'días', 'y', 'el', 'dolor', 'Ya', 'no', 'puedo', 'compartir', 'tus', 'labios', 'Oh', 'amor,', 'oh', 'amor', 'compartido', 'Amor', 'mutante', 'Amigos', 'con', 'derecho', 'y', 'sin', 'derecho', 'de', 'tenerte', 'siempre', 'Y', 'siempre', 'tengo', 'que', 'esperar', 'paciente', 'El', 'pedazo', 'que', 'me', 'toca', 'de', 'ti', 'Relámpagos', 'de', 'alcohol', 'Las', 'voces', 'solas', 'lloran', 'en', 'el', 'sol,', 'eh', 'Mi', 'boca', 'en', 'llamas', 'torturada', 'Te', 'desnudas', 'angelada,', 'luego', 'te', 'vas', 'Otra', 'vez', 'mi', 'boca', 'insensata', 'Vuelve', 'a', 'caer', 'en', 'tu', 'piel', 'de', 'miel', 'Vuelve', 'a', 'mí', 'tu', 'boca,', 'duele', 'Vuelvo', 'a', 'caer', 'de', 'tus', 'pechos', 'a', 'tu', 'par', 'de', 'pies', 'Labios', 'compartidos,', 'labios', 'divididos,', 'mi', 'amor', 'Yo', 'no', 'puedo', 'compartir', 'tus', 'labios', 'Que', 'comparto', 'el', 'engaño', 'y', 'comparto', 'mis', 'días', 'y', 'el', 'dolor', 'Ya', 'no', 'puedo', 'compartir', 'tus', 'labios', 'Que', 'me', 'parta', 'un', 'rayo', 'Que', 'me', 'entierre', 'el', 'olvido', 'mi', 'amor', 'Pero', 'no', 'puedo', 'más', 'compartir', 'tus', 'labios,', 'compartir', 'tus', 'besos', 'Labios', 'compartidos', 'Te', 'amo', 'con', 'toda', 'mi', 'fe,', 'sin', 'medida', 'Te', 'amo', 'aunque', 'estés', 'compartida', 'Tus', 'labios', 'tiene', 'el', 'control', 'Te', 'amo', 'con', 'toda', 'mi', 'fe,', 'sin', 'medida', 'Te', 'amo', 'aunque', 'estés', 'compartida', 'Tus', 'labios', 'tienen', 'el', 'control', 'Y', 'sigues', 'tú', 'con', 'el', 'control']"
   ]
  },
  {
   "cell_type": "code",
   "execution_count": 25,
   "id": "c351d60a-feca-4192-a70a-6adff552648a",
   "metadata": {
    "collapsed": true,
    "jupyter": {
     "outputs_hidden": true,
     "source_hidden": true
    }
   },
   "outputs": [],
   "source": [
    "soda = ['Ella', 'durmió', 'al', 'calor', 'de', 'las', 'masas', 'Y', 'yo', 'desperté', 'queriendo', 'soñarla', 'Algún', 'tiempo', 'atrás', 'pensé', 'en', 'escribirle', 'Que', 'nunca', 'sorteé', 'las', 'trampas', 'del', 'amor', 'De', 'aquel', 'amor', 'De', 'música', 'ligera', 'Nada', 'nos', 'libra', 'Nada', 'más', 'queda', 'No', 'le', 'enviaré', 'cenizas', 'de', 'rosas', 'Ni', 'pienso', 'evitar', 'un', 'roce', 'secreto', 'De', 'aquel', 'amor', 'De', 'música', 'ligera', 'Nada', 'nos', 'libra', 'Nada', 'más', 'queda', 'De', 'aquel', 'amor', 'De', 'música', 'ligera', 'Nada', 'nos', 'libra', 'Nada', 'más', 'queda', 'Nada', 'más...', 'Nada', 'más', 'queda', 'Nada', 'más', 'queda', 'Nada', 'más', 'queda', 'Nada', 'más', 'queda']"
   ]
  },
  {
   "cell_type": "code",
   "execution_count": 26,
   "id": "08e6254c-29c6-479d-8bb0-068bd03b8fc8",
   "metadata": {
    "collapsed": true,
    "jupyter": {
     "outputs_hidden": true,
     "source_hidden": true
    }
   },
   "outputs": [],
   "source": [
    "juan = ['Tengo', 'un', 'corazón', 'Mutilado', 'de', 'esperanza', 'y', 'de', 'razón', 'Tengo', 'un', 'corazón', 'Que', 'madruga', 'adonde', 'quiera', 'Ay', 'ay', 'ay', 'ay', 'Y', 'ese', 'corazón', 'Se', 'desnuda', 'de', 'impaciencia', 'ante', 'tu', 'voz', 'Pobre', 'corazón', 'Que', 'no', 'atrapa', 'su', 'cordura', 'Quisiera', 'ser', 'un', 'pez', 'Para', 'tocar', 'mi', 'nariz', 'en', 'tu', 'pecera', 'Y', 'hacer', 'burbujas', 'de', 'amor', 'Por', 'donde', 'quiera', 'Oh-oh-oh', 'pasar', 'la', 'noche', 'en', 'vela', 'Mojado', 'en', 'ti', 'Un', 'pez', 'Para', 'bordar', 'de', 'corales', 'tu', 'cintura', 'Y', 'hacer', 'siluetas', 'de', 'amor', 'Bajo', 'la', 'luna', 'Oh-oh-oh', 'saciar', 'esta', 'locura', 'Mojado', 'en', 'ti', 'Canta', 'corazón', 'Con', 'un', 'ancla', 'imprescindible', 'de', 'ilusión', 'Sueña', 'corazón', 'No', 'te', 'nubles', 'de', 'amargura', 'Ay', 'ay', 'ay', 'ay', 'Y', 'este', 'corazón', 'Se', 'desnuda', 'de', 'impaciencia', 'ante', 'tu', 'voz', 'Pobre', 'corazón', 'Que', 'no', 'atrapa', 'su', 'cordura', 'Quisiera', 'ser', 'un', 'pez', 'Para', 'tocar', 'mi', 'nariz', 'En', 'tu', 'pecera', 'Y', 'hacer', 'burbujas', 'de', 'amor', 'Por', 'donde', 'quiera', 'Oh-oh-oh', 'pasar', 'la', 'noche', 'en', 'vela', 'Mojado', 'en', 'ti', 'Un', 'pez', 'Para', 'bordar', 'de', 'corales', 'tu', 'cintura', 'Y', 'hacer', 'siluetas', 'de', 'amor', 'Bajo', 'la', 'luna', 'Oh-oh-oh', 'saciar', 'esta', 'locura', 'Mojado', 'en', 'ti', 'Una', 'noche', 'Para', 'hundirnos', 'hasta', 'el', 'fin', 'Cara', 'a', 'cara,', 'beso', 'a', 'beso', 'Y', 'vivir', 'por', 'siempre', 'Mojado', 'en', 'ti', 'Quisiera', 'ser', 'un', 'pez', 'Para', 'tocar', 'mi', 'nariz', 'En', 'tu', 'pecera', 'Y', 'hacer', 'burbujas', 'de', 'amor', 'Por', 'donde', 'quiera', 'Oh-oh-oh', 'pasar', 'la', 'noche', 'en', 'vela', 'Mojado', 'en', 'ti', 'Un', 'pez', 'Para', 'bordar', 'de', 'cayenas', 'tu', 'cintura', 'Y', 'hacer', 'siluetas', 'de', 'amor', 'Bajo', 'la', 'luna', 'Oh-oh-oh', 'saciar', 'esta', 'locura', 'Mojado', 'en', 'ti', 'Para', 'tocar', 'mi', 'nariz', 'En', 'tu', 'pecera', 'Y', 'hacer', 'burbujas', 'de', 'amor', 'Por', 'donde', 'quiera', 'Oh-oh-oh', 'pasar', 'la', 'noche', 'en', 'vela', 'Mojado', 'en', 'ti', 'Un', 'pez', 'Para', 'bordar', 'de', 'cayenas', 'tu', 'cintura', 'Y', 'hacer', 'siluetas', 'de', 'amor', 'Bajo', 'la', 'luna', 'Oh-oh-oh', 'vaciar', 'esta', 'locura', 'Mojado', 'en', 'ti']"
   ]
  },
  {
   "cell_type": "code",
   "execution_count": 14,
   "id": "8d9a6947-374f-4b26-862f-428086ccabfd",
   "metadata": {
    "collapsed": true,
    "jupyter": {
     "outputs_hidden": true,
     "source_hidden": true
    },
    "tags": []
   },
   "outputs": [
    {
     "name": "stdout",
     "output_type": "stream",
     "text": [
      "['Bienvenido', 'a', 'KARAOKE', 'fanático', 'de', 'la', 'música!', 'Por', 'favor', 'elige', 'un', 'género']\n"
     ]
    }
   ],
   "source": [
    "print('Bienvenido a KARAOKE fanático de la música! Por favor elige un género'.split())"
   ]
  },
  {
   "cell_type": "code",
   "execution_count": 79,
   "id": "a32e5f84-5378-4929-aec5-cbaa08548a8d",
   "metadata": {
    "collapsed": true,
    "jupyter": {
     "outputs_hidden": true,
     "source_hidden": true
    }
   },
   "outputs": [
    {
     "name": "stdout",
     "output_type": "stream",
     "text": [
      "['Bienvenido', 'a', 'KARAOKE', 'fanático', 'de', 'la', 'música!']\n"
     ]
    }
   ],
   "source": [
    "print('Bienvenido a KARAOKE fanático de la música!'.split())"
   ]
  },
  {
   "cell_type": "code",
   "execution_count": 80,
   "id": "21ce50c8-7614-4eed-8014-05885dc12fd8",
   "metadata": {
    "collapsed": true,
    "jupyter": {
     "outputs_hidden": true,
     "source_hidden": true
    }
   },
   "outputs": [
    {
     "name": "stdout",
     "output_type": "stream",
     "text": [
      "['Por', 'favor', 'elige', 'un', 'género']\n"
     ]
    }
   ],
   "source": [
    "print('Por favor elige un género'.split())"
   ]
  },
  {
   "cell_type": "code",
   "execution_count": 69,
   "id": "b40da614-47e0-4637-83b1-2261c69f1a5e",
   "metadata": {
    "collapsed": true,
    "jupyter": {
     "outputs_hidden": true,
     "source_hidden": true
    }
   },
   "outputs": [],
   "source": [
    "def karaoke(genero):\n",
    "    contador = 0\n",
    "    print('En sus marcas')\n",
    "    time.sleep(0.5)\n",
    "    print('Listos')\n",
    "    time.sleep(0.5)\n",
    "    print('A CANTAR!')\n",
    "    time.sleep(0.7)\n",
    "    for palabra in genero:\n",
    "        time.sleep(0.1)\n",
    "        if random.random() < 0.1:\n",
    "            intento = (input('¿Qué palabra viene? ')).lower()\n",
    "            if intento == palabra.lower():\n",
    "                print('BIEN ☻')\n",
    "                pass\n",
    "            elif intento != palabra.lower() and contador < 2:\n",
    "                contador = contador + 1\n",
    "                print(f'Llevas {contador} equivocaciones')\n",
    "            else:\n",
    "                print('you loose!')\n",
    "                break\n",
    "            \n",
    "        else:\n",
    "            print(palabra, end = ' ')\n",
    "    time.sleep(3)\n",
    "    print('\\nLo lograste!!')"
   ]
  },
  {
   "cell_type": "code",
   "execution_count": 83,
   "id": "047a8a0a-6427-4aed-8d89-748455019fe4",
   "metadata": {
    "collapsed": true,
    "jupyter": {
     "outputs_hidden": true,
     "source_hidden": true
    }
   },
   "outputs": [],
   "source": [
    "def elegir_genero():\n",
    "    Bienvenida = ['Bienvenido', 'a', 'KARAOKE', 'fanático', 'de', 'la', 'música!']\n",
    "    elige = ['Por', 'favor', 'elige', 'un', 'género']\n",
    "    lista_genero=[mana, soda, juan]\n",
    "    for palabra in Bienvenida:\n",
    "        time.sleep(0.2)\n",
    "        print(palabra, end=' ')    \n",
    "    instrucciones = (input('¿Quieres conocer las instrucciones? Ingresa si/no ')).lower()\n",
    "    if instrucciones == 'si':\n",
    "        print('En este juego de karaoke debes adivinar la palabra que sigue.\\nTienes solo 3 intentos o sino perderás')\n",
    "    else:\n",
    "        pass\n",
    "    for palabra in elige:\n",
    "        time.sleep(0.2)\n",
    "        print(palabra, end=' ') \n",
    "    eleccion = (input('Escribe\\nA = Pop\\nB = Rock\\nC = Salsa\\nD = Aleatorio\\n')).upper()\n",
    "    if eleccion == 'A':\n",
    "         karaoke(mana)\n",
    "    elif eleccion == 'B':\n",
    "         karaoke(soda)\n",
    "    elif eleccion == 'C':\n",
    "          karaoke(juan)\n",
    "    elif eleccion == 'D':\n",
    "         karaoke(random.choice(lista_genero))\n",
    "    else:\n",
    "         print('Debe ingresar A, B, C, D')"
   ]
  },
  {
   "cell_type": "code",
   "execution_count": 87,
   "id": "54f6ecb4-73c1-41bd-9d1f-37ed9b823bf6",
   "metadata": {
    "tags": []
   },
   "outputs": [
    {
     "name": "stdout",
     "output_type": "stream",
     "text": [
      "Bienvenido a KARAOKE fanático de la música! "
     ]
    },
    {
     "name": "stdin",
     "output_type": "stream",
     "text": [
      "¿Quieres conocer las instrucciones? Ingresa si/no  SI\n"
     ]
    },
    {
     "name": "stdout",
     "output_type": "stream",
     "text": [
      "En este juego de karaoke debes adivinar la palabra que sigue.\n",
      "Tienes solo 3 intentos o sino perderás\n",
      "Por favor elige un género "
     ]
    },
    {
     "name": "stdin",
     "output_type": "stream",
     "text": [
      "Escribe\n",
      "A = Pop\n",
      "B = Rock\n",
      "C = Salsa\n",
      "D = Aleatorio\n",
      " B\n"
     ]
    },
    {
     "name": "stdout",
     "output_type": "stream",
     "text": [
      "En sus marcas\n",
      "Listos\n",
      "A CANTAR!\n",
      "Ella "
     ]
    },
    {
     "ename": "KeyboardInterrupt",
     "evalue": "Interrupted by user",
     "output_type": "error",
     "traceback": [
      "\u001b[1;31m---------------------------------------------------------------------------\u001b[0m",
      "\u001b[1;31mKeyboardInterrupt\u001b[0m                         Traceback (most recent call last)",
      "\u001b[1;32m~\\AppData\\Local\\Temp/ipykernel_70024/3222614231.py\u001b[0m in \u001b[0;36m<module>\u001b[1;34m\u001b[0m\n\u001b[1;32m----> 1\u001b[1;33m \u001b[0melegir_genero\u001b[0m\u001b[1;33m(\u001b[0m\u001b[1;33m)\u001b[0m\u001b[1;33m\u001b[0m\u001b[1;33m\u001b[0m\u001b[0m\n\u001b[0m",
      "\u001b[1;32m~\\AppData\\Local\\Temp/ipykernel_70024/2999087434.py\u001b[0m in \u001b[0;36melegir_genero\u001b[1;34m()\u001b[0m\n\u001b[0;32m     18\u001b[0m          \u001b[0mkaraoke\u001b[0m\u001b[1;33m(\u001b[0m\u001b[0mmana\u001b[0m\u001b[1;33m)\u001b[0m\u001b[1;33m\u001b[0m\u001b[1;33m\u001b[0m\u001b[0m\n\u001b[0;32m     19\u001b[0m     \u001b[1;32melif\u001b[0m \u001b[0meleccion\u001b[0m \u001b[1;33m==\u001b[0m \u001b[1;34m'B'\u001b[0m\u001b[1;33m:\u001b[0m\u001b[1;33m\u001b[0m\u001b[1;33m\u001b[0m\u001b[0m\n\u001b[1;32m---> 20\u001b[1;33m          \u001b[0mkaraoke\u001b[0m\u001b[1;33m(\u001b[0m\u001b[0msoda\u001b[0m\u001b[1;33m)\u001b[0m\u001b[1;33m\u001b[0m\u001b[1;33m\u001b[0m\u001b[0m\n\u001b[0m\u001b[0;32m     21\u001b[0m     \u001b[1;32melif\u001b[0m \u001b[0meleccion\u001b[0m \u001b[1;33m==\u001b[0m \u001b[1;34m'C'\u001b[0m\u001b[1;33m:\u001b[0m\u001b[1;33m\u001b[0m\u001b[1;33m\u001b[0m\u001b[0m\n\u001b[0;32m     22\u001b[0m           \u001b[0mkaraoke\u001b[0m\u001b[1;33m(\u001b[0m\u001b[0mjuan\u001b[0m\u001b[1;33m)\u001b[0m\u001b[1;33m\u001b[0m\u001b[1;33m\u001b[0m\u001b[0m\n",
      "\u001b[1;32m~\\AppData\\Local\\Temp/ipykernel_70024/3237140150.py\u001b[0m in \u001b[0;36mkaraoke\u001b[1;34m(genero)\u001b[0m\n\u001b[0;32m     10\u001b[0m         \u001b[0mtime\u001b[0m\u001b[1;33m.\u001b[0m\u001b[0msleep\u001b[0m\u001b[1;33m(\u001b[0m\u001b[1;36m0.1\u001b[0m\u001b[1;33m)\u001b[0m\u001b[1;33m\u001b[0m\u001b[1;33m\u001b[0m\u001b[0m\n\u001b[0;32m     11\u001b[0m         \u001b[1;32mif\u001b[0m \u001b[0mrandom\u001b[0m\u001b[1;33m.\u001b[0m\u001b[0mrandom\u001b[0m\u001b[1;33m(\u001b[0m\u001b[1;33m)\u001b[0m \u001b[1;33m<\u001b[0m \u001b[1;36m0.1\u001b[0m\u001b[1;33m:\u001b[0m\u001b[1;33m\u001b[0m\u001b[1;33m\u001b[0m\u001b[0m\n\u001b[1;32m---> 12\u001b[1;33m             \u001b[0mintento\u001b[0m \u001b[1;33m=\u001b[0m \u001b[1;33m(\u001b[0m\u001b[0minput\u001b[0m\u001b[1;33m(\u001b[0m\u001b[1;34m'¿Qué palabra viene? '\u001b[0m\u001b[1;33m)\u001b[0m\u001b[1;33m)\u001b[0m\u001b[1;33m.\u001b[0m\u001b[0mlower\u001b[0m\u001b[1;33m(\u001b[0m\u001b[1;33m)\u001b[0m\u001b[1;33m\u001b[0m\u001b[1;33m\u001b[0m\u001b[0m\n\u001b[0m\u001b[0;32m     13\u001b[0m             \u001b[1;32mif\u001b[0m \u001b[0mintento\u001b[0m \u001b[1;33m==\u001b[0m \u001b[0mpalabra\u001b[0m\u001b[1;33m.\u001b[0m\u001b[0mlower\u001b[0m\u001b[1;33m(\u001b[0m\u001b[1;33m)\u001b[0m\u001b[1;33m:\u001b[0m\u001b[1;33m\u001b[0m\u001b[1;33m\u001b[0m\u001b[0m\n\u001b[0;32m     14\u001b[0m                 \u001b[0mprint\u001b[0m\u001b[1;33m(\u001b[0m\u001b[1;34m'☻'\u001b[0m\u001b[1;33m)\u001b[0m\u001b[1;33m\u001b[0m\u001b[1;33m\u001b[0m\u001b[0m\n",
      "\u001b[1;32m~\\anaconda3\\lib\\site-packages\\ipykernel\\kernelbase.py\u001b[0m in \u001b[0;36mraw_input\u001b[1;34m(self, prompt)\u001b[0m\n\u001b[0;32m   1004\u001b[0m                 \u001b[1;34m\"raw_input was called, but this frontend does not support input requests.\"\u001b[0m\u001b[1;33m\u001b[0m\u001b[1;33m\u001b[0m\u001b[0m\n\u001b[0;32m   1005\u001b[0m             )\n\u001b[1;32m-> 1006\u001b[1;33m         return self._input_request(\n\u001b[0m\u001b[0;32m   1007\u001b[0m             \u001b[0mstr\u001b[0m\u001b[1;33m(\u001b[0m\u001b[0mprompt\u001b[0m\u001b[1;33m)\u001b[0m\u001b[1;33m,\u001b[0m\u001b[1;33m\u001b[0m\u001b[1;33m\u001b[0m\u001b[0m\n\u001b[0;32m   1008\u001b[0m             \u001b[0mself\u001b[0m\u001b[1;33m.\u001b[0m\u001b[0m_parent_ident\u001b[0m\u001b[1;33m[\u001b[0m\u001b[1;34m\"shell\"\u001b[0m\u001b[1;33m]\u001b[0m\u001b[1;33m,\u001b[0m\u001b[1;33m\u001b[0m\u001b[1;33m\u001b[0m\u001b[0m\n",
      "\u001b[1;32m~\\anaconda3\\lib\\site-packages\\ipykernel\\kernelbase.py\u001b[0m in \u001b[0;36m_input_request\u001b[1;34m(self, prompt, ident, parent, password)\u001b[0m\n\u001b[0;32m   1049\u001b[0m             \u001b[1;32mexcept\u001b[0m \u001b[0mKeyboardInterrupt\u001b[0m\u001b[1;33m:\u001b[0m\u001b[1;33m\u001b[0m\u001b[1;33m\u001b[0m\u001b[0m\n\u001b[0;32m   1050\u001b[0m                 \u001b[1;31m# re-raise KeyboardInterrupt, to truncate traceback\u001b[0m\u001b[1;33m\u001b[0m\u001b[1;33m\u001b[0m\u001b[0m\n\u001b[1;32m-> 1051\u001b[1;33m                 \u001b[1;32mraise\u001b[0m \u001b[0mKeyboardInterrupt\u001b[0m\u001b[1;33m(\u001b[0m\u001b[1;34m\"Interrupted by user\"\u001b[0m\u001b[1;33m)\u001b[0m \u001b[1;32mfrom\u001b[0m \u001b[1;32mNone\u001b[0m\u001b[1;33m\u001b[0m\u001b[1;33m\u001b[0m\u001b[0m\n\u001b[0m\u001b[0;32m   1052\u001b[0m             \u001b[1;32mexcept\u001b[0m \u001b[0mException\u001b[0m\u001b[1;33m:\u001b[0m\u001b[1;33m\u001b[0m\u001b[1;33m\u001b[0m\u001b[0m\n\u001b[0;32m   1053\u001b[0m                 \u001b[0mself\u001b[0m\u001b[1;33m.\u001b[0m\u001b[0mlog\u001b[0m\u001b[1;33m.\u001b[0m\u001b[0mwarning\u001b[0m\u001b[1;33m(\u001b[0m\u001b[1;34m\"Invalid Message:\"\u001b[0m\u001b[1;33m,\u001b[0m \u001b[0mexc_info\u001b[0m\u001b[1;33m=\u001b[0m\u001b[1;32mTrue\u001b[0m\u001b[1;33m)\u001b[0m\u001b[1;33m\u001b[0m\u001b[1;33m\u001b[0m\u001b[0m\n",
      "\u001b[1;31mKeyboardInterrupt\u001b[0m: Interrupted by user"
     ]
    }
   ],
   "source": [
    "elegir_genero()"
   ]
  },
  {
   "cell_type": "code",
   "execution_count": null,
   "id": "d09ee89b-77ae-46e1-a660-10bc09adfdf1",
   "metadata": {},
   "outputs": [],
   "source": []
  }
 ],
 "metadata": {
  "kernelspec": {
   "display_name": "Python 3 (ipykernel)",
   "language": "python",
   "name": "python3"
  },
  "language_info": {
   "codemirror_mode": {
    "name": "ipython",
    "version": 3
   },
   "file_extension": ".py",
   "mimetype": "text/x-python",
   "name": "python",
   "nbconvert_exporter": "python",
   "pygments_lexer": "ipython3",
   "version": "3.9.7"
  }
 },
 "nbformat": 4,
 "nbformat_minor": 5
}
