{
 "cells": [
  {
   "cell_type": "code",
   "execution_count": 2,
   "id": "e2b92023-c494-442b-8b50-86d37d1a5e6c",
   "metadata": {},
   "outputs": [],
   "source": [
    "import random\n",
    "import time"
   ]
  },
  {
   "cell_type": "code",
   "execution_count": 19,
   "id": "0c6a48db-220d-43fd-aaae-ad622758c00b",
   "metadata": {},
   "outputs": [],
   "source": [
    "mana = ['Amor', 'mío', 'Si', 'estoy', 'debajo', 'del', 'vaivén', 'de', 'tus', 'piernas', 'Si', 'estoy', 'hundido', 'en', 'un', 'vaivén', 'de', 'caderas', 'Esto', 'es', 'el', 'cielo,', 'es', 'mi', 'cielo', 'Amor', 'fugado', 'Me', 'tomas,', 'me', 'dejas,', 'me', 'exprimes', 'y', 'me', 'tiras', 'a', 'un', 'lado', 'Te', 'vas', 'a', 'otros', 'cielos', 'y', 'regresas', 'como', 'los', 'colibrís', 'Me', 'tienes', 'como', 'un', 'perro', 'a', 'tus', 'pies', 'Otra', 'vez', 'mi', 'boca', 'insensata', 'Vuelve', 'a', 'caer', 'en', 'tu', 'piel', 'Vuelve', 'a', 'mí', 'tu', 'boca', 'y', 'provoca', 'Vuelvo', 'a', 'caer', 'de', 'tus', 'pechos', 'a', 'tu', 'par', 'de', 'pies', 'Labios', 'compartidos,', 'labios', 'divididos,', 'mi', 'amor', 'Yo', 'no', 'puedo', 'compartir', 'tus', 'labios', 'Que', 'comparto', 'el', 'engaño', 'y', 'comparto', 'mis', 'días', 'y', 'el', 'dolor', 'Ya', 'no', 'puedo', 'compartir', 'tus', 'labios', 'Oh', 'amor,', 'oh', 'amor', 'compartido', 'Amor', 'mutante', 'Amigos', 'con', 'derecho', 'y', 'sin', 'derecho', 'de', 'tenerte', 'siempre', 'Y', 'siempre', 'tengo', 'que', 'esperar', 'paciente', 'El', 'pedazo', 'que', 'me', 'toca', 'de', 'ti', 'Relámpagos', 'de', 'alcohol', 'Las', 'voces', 'solas', 'lloran', 'en', 'el', 'sol,', 'eh', 'Mi', 'boca', 'en', 'llamas', 'torturada', 'Te', 'desnudas', 'angelada,', 'luego', 'te', 'vas', 'Otra', 'vez', 'mi', 'boca', 'insensata', 'Vuelve', 'a', 'caer', 'en', 'tu', 'piel', 'de', 'miel', 'Vuelve', 'a', 'mí', 'tu', 'boca,', 'duele', 'Vuelvo', 'a', 'caer', 'de', 'tus', 'pechos', 'a', 'tu', 'par', 'de', 'pies', 'Labios', 'compartidos,', 'labios', 'divididos,', 'mi', 'amor', 'Yo', 'no', 'puedo', 'compartir', 'tus', 'labios', 'Que', 'comparto', 'el', 'engaño', 'y', 'comparto', 'mis', 'días', 'y', 'el', 'dolor', 'Ya', 'no', 'puedo', 'compartir', 'tus', 'labios', 'Que', 'me', 'parta', 'un', 'rayo', 'Que', 'me', 'entierre', 'el', 'olvido', 'mi', 'amor', 'Pero', 'no', 'puedo', 'más', 'compartir', 'tus', 'labios,', 'compartir', 'tus', 'besos', 'Labios', 'compartidos', 'Te', 'amo', 'con', 'toda', 'mi', 'fe,', 'sin', 'medida', 'Te', 'amo', 'aunque', 'estés', 'compartida', 'Tus', 'labios', 'tiene', 'el', 'control', 'Te', 'amo', 'con', 'toda', 'mi', 'fe,', 'sin', 'medida', 'Te', 'amo', 'aunque', 'estés', 'compartida', 'Tus', 'labios', 'tienen', 'el', 'control', 'Y', 'sigues', 'tú', 'con', 'el', 'control']"
   ]
  },
  {
   "cell_type": "code",
   "execution_count": 25,
   "id": "c351d60a-feca-4192-a70a-6adff552648a",
   "metadata": {},
   "outputs": [],
   "source": [
    "soda = ['Ella', 'durmió', 'al', 'calor', 'de', 'las', 'masas', 'Y', 'yo', 'desperté', 'queriendo', 'soñarla', 'Algún', 'tiempo', 'atrás', 'pensé', 'en', 'escribirle', 'Que', 'nunca', 'sorteé', 'las', 'trampas', 'del', 'amor', 'De', 'aquel', 'amor', 'De', 'música', 'ligera', 'Nada', 'nos', 'libra', 'Nada', 'más', 'queda', 'No', 'le', 'enviaré', 'cenizas', 'de', 'rosas', 'Ni', 'pienso', 'evitar', 'un', 'roce', 'secreto', 'De', 'aquel', 'amor', 'De', 'música', 'ligera', 'Nada', 'nos', 'libra', 'Nada', 'más', 'queda', 'De', 'aquel', 'amor', 'De', 'música', 'ligera', 'Nada', 'nos', 'libra', 'Nada', 'más', 'queda', 'Nada', 'más...', 'Nada', 'más', 'queda', 'Nada', 'más', 'queda', 'Nada', 'más', 'queda', 'Nada', 'más', 'queda']"
   ]
  },
  {
   "cell_type": "code",
   "execution_count": 26,
   "id": "08e6254c-29c6-479d-8bb0-068bd03b8fc8",
   "metadata": {},
   "outputs": [],
   "source": [
    "juan = ['Tengo', 'un', 'corazón', 'Mutilado', 'de', 'esperanza', 'y', 'de', 'razón', 'Tengo', 'un', 'corazón', 'Que', 'madruga', 'adonde', 'quiera', 'Ay', 'ay', 'ay', 'ay', 'Y', 'ese', 'corazón', 'Se', 'desnuda', 'de', 'impaciencia', 'ante', 'tu', 'voz', 'Pobre', 'corazón', 'Que', 'no', 'atrapa', 'su', 'cordura', 'Quisiera', 'ser', 'un', 'pez', 'Para', 'tocar', 'mi', 'nariz', 'en', 'tu', 'pecera', 'Y', 'hacer', 'burbujas', 'de', 'amor', 'Por', 'donde', 'quiera', 'Oh-oh-oh', 'pasar', 'la', 'noche', 'en', 'vela', 'Mojado', 'en', 'ti', 'Un', 'pez', 'Para', 'bordar', 'de', 'corales', 'tu', 'cintura', 'Y', 'hacer', 'siluetas', 'de', 'amor', 'Bajo', 'la', 'luna', 'Oh-oh-oh', 'saciar', 'esta', 'locura', 'Mojado', 'en', 'ti', 'Canta', 'corazón', 'Con', 'un', 'ancla', 'imprescindible', 'de', 'ilusión', 'Sueña', 'corazón', 'No', 'te', 'nubles', 'de', 'amargura', 'Ay', 'ay', 'ay', 'ay', 'Y', 'este', 'corazón', 'Se', 'desnuda', 'de', 'impaciencia', 'ante', 'tu', 'voz', 'Pobre', 'corazón', 'Que', 'no', 'atrapa', 'su', 'cordura', 'Quisiera', 'ser', 'un', 'pez', 'Para', 'tocar', 'mi', 'nariz', 'En', 'tu', 'pecera', 'Y', 'hacer', 'burbujas', 'de', 'amor', 'Por', 'donde', 'quiera', 'Oh-oh-oh', 'pasar', 'la', 'noche', 'en', 'vela', 'Mojado', 'en', 'ti', 'Un', 'pez', 'Para', 'bordar', 'de', 'corales', 'tu', 'cintura', 'Y', 'hacer', 'siluetas', 'de', 'amor', 'Bajo', 'la', 'luna', 'Oh-oh-oh', 'saciar', 'esta', 'locura', 'Mojado', 'en', 'ti', 'Una', 'noche', 'Para', 'hundirnos', 'hasta', 'el', 'fin', 'Cara', 'a', 'cara,', 'beso', 'a', 'beso', 'Y', 'vivir', 'por', 'siempre', 'Mojado', 'en', 'ti', 'Quisiera', 'ser', 'un', 'pez', 'Para', 'tocar', 'mi', 'nariz', 'En', 'tu', 'pecera', 'Y', 'hacer', 'burbujas', 'de', 'amor', 'Por', 'donde', 'quiera', 'Oh-oh-oh', 'pasar', 'la', 'noche', 'en', 'vela', 'Mojado', 'en', 'ti', 'Un', 'pez', 'Para', 'bordar', 'de', 'cayenas', 'tu', 'cintura', 'Y', 'hacer', 'siluetas', 'de', 'amor', 'Bajo', 'la', 'luna', 'Oh-oh-oh', 'saciar', 'esta', 'locura', 'Mojado', 'en', 'ti', 'Para', 'tocar', 'mi', 'nariz', 'En', 'tu', 'pecera', 'Y', 'hacer', 'burbujas', 'de', 'amor', 'Por', 'donde', 'quiera', 'Oh-oh-oh', 'pasar', 'la', 'noche', 'en', 'vela', 'Mojado', 'en', 'ti', 'Un', 'pez', 'Para', 'bordar', 'de', 'cayenas', 'tu', 'cintura', 'Y', 'hacer', 'siluetas', 'de', 'amor', 'Bajo', 'la', 'luna', 'Oh-oh-oh', 'vaciar', 'esta', 'locura', 'Mojado', 'en', 'ti']"
   ]
  },
  {
   "cell_type": "code",
   "execution_count": 14,
   "id": "8d9a6947-374f-4b26-862f-428086ccabfd",
   "metadata": {},
   "outputs": [
    {
     "name": "stdout",
     "output_type": "stream",
     "text": [
      "['Bienvenido', 'a', 'KARAOKE', 'fanático', 'de', 'la', 'música!', 'Por', 'favor', 'elige', 'un', 'género']\n"
     ]
    }
   ],
   "source": [
    "print('Bienvenido a KARAOKE fanático de la música! Por favor elige un género'.split())"
   ]
  },
  {
   "cell_type": "code",
   "execution_count": 36,
   "id": "b40da614-47e0-4637-83b1-2261c69f1a5e",
   "metadata": {},
   "outputs": [],
   "source": [
    "def karaoke(genero):\n",
    "    contador = 0\n",
    "    print('En sus marcas')\n",
    "    time.sleep(0.5)\n",
    "    print('Listos')\n",
    "    time.sleep(0.5)\n",
    "    print('A CANTAR!')\n",
    "    time.sleep(0.7)\n",
    "    for palabra in genero:\n",
    "        time.sleep(0.1)\n",
    "        if random.random() < 0.05:\n",
    "            intento = (input('¿Qué palabra viene? ')).lower()\n",
    "            if intento == palabra.lower():\n",
    "                pass\n",
    "            elif intento != palabra.lower() and contador < 2:\n",
    "                contador = contador + 1\n",
    "            else:\n",
    "                print('you loose!')\n",
    "                break\n",
    "\n",
    "        else:\n",
    "            print(palabra, end = ' ')   "
   ]
  },
  {
   "cell_type": "code",
   "execution_count": 35,
   "id": "047a8a0a-6427-4aed-8d89-748455019fe4",
   "metadata": {},
   "outputs": [],
   "source": [
    "def elegir_genero():\n",
    "    Bienvenida = ['Bienvenido', 'a', 'KARAOKE', 'fanático', 'de', 'la', 'música!', 'Por', 'favor', 'elige', 'un', 'género']\n",
    "    for palabra in Bienvenida:\n",
    "        time.sleep(0.2)\n",
    "        print(palabra, end=' ')\n",
    "    eleccion = (input('Escribe\\nA = Pop\\nB = Rock\\nC = Salsa\\n')).upper()\n",
    "    if eleccion == 'A':\n",
    "        karaoke(mana)\n",
    "    elif eleccion == 'B':\n",
    "        karaoke(soda)\n",
    "    elif eleccion == 'C':\n",
    "        karaoke(salsa)\n",
    "    else:\n",
    "        print('Debe ingresar A, B O C')"
   ]
  },
  {
   "cell_type": "code",
   "execution_count": 38,
   "id": "54f6ecb4-73c1-41bd-9d1f-37ed9b823bf6",
   "metadata": {},
   "outputs": [
    {
     "name": "stdout",
     "output_type": "stream",
     "text": [
      "Bienvenido a KARAOKE fanático de la música! Por favor elige un género "
     ]
    },
    {
     "name": "stdin",
     "output_type": "stream",
     "text": [
      "Escribe\n",
      "A = Pop\n",
      "B = Rock\n",
      "C = Salsa\n",
      " b\n"
     ]
    },
    {
     "name": "stdout",
     "output_type": "stream",
     "text": [
      "En sus marcas\n",
      "Listos\n",
      "A CANTAR!\n",
      "Ella durmió al calor de las masas Y yo desperté queriendo soñarla Algún tiempo atrás pensé en escribirle Que nunca sorteé las trampas del amor De "
     ]
    },
    {
     "name": "stdin",
     "output_type": "stream",
     "text": [
      "¿Qué palabra viene?  l\n"
     ]
    },
    {
     "name": "stdout",
     "output_type": "stream",
     "text": [
      "amor De música ligera Nada nos libra Nada "
     ]
    },
    {
     "name": "stdin",
     "output_type": "stream",
     "text": [
      "¿Qué palabra viene?  l\n",
      "¿Qué palabra viene?  l\n"
     ]
    },
    {
     "name": "stdout",
     "output_type": "stream",
     "text": [
      "you loose!\n"
     ]
    }
   ],
   "source": [
    "elegir_genero()"
   ]
  }
 ],
 "metadata": {
  "kernelspec": {
   "display_name": "Python 3 (ipykernel)",
   "language": "python",
   "name": "python3"
  },
  "language_info": {
   "codemirror_mode": {
    "name": "ipython",
    "version": 3
   },
   "file_extension": ".py",
   "mimetype": "text/x-python",
   "name": "python",
   "nbconvert_exporter": "python",
   "pygments_lexer": "ipython3",
   "version": "3.9.7"
  }
 },
 "nbformat": 4,
 "nbformat_minor": 5
}
